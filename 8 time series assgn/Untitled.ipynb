{
 "cells": [
  {
   "cell_type": "markdown",
   "id": "da8d73c0",
   "metadata": {},
   "source": [
    "https://drive.google.com/file/d/1VmdlDcA0HZ2jY4gvIPLfl1pIzAn14isW/view"
   ]
  }
 ],
 "metadata": {
  "kernelspec": {
   "display_name": "Python 3 (ipykernel)",
   "language": "python",
   "name": "python3"
  },
  "language_info": {
   "codemirror_mode": {
    "name": "ipython",
    "version": 3
   },
   "file_extension": ".py",
   "mimetype": "text/x-python",
   "name": "python",
   "nbconvert_exporter": "python",
   "pygments_lexer": "ipython3",
   "version": "3.8.12"
  }
 },
 "nbformat": 4,
 "nbformat_minor": 5
}
